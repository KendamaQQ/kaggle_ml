{
 "cells": [
  {
   "cell_type": "code",
   "execution_count": null,
   "id": "47d2e9d6",
   "metadata": {},
   "outputs": [],
   "source": [
    "import kagglehub\n",
    "\n",
    "# Download latest version\n",
    "path = kagglehub.dataset_download(\"jayaantanaath/student-habits-vs-academic-performance\")\n",
    "\n",
    "print(\"Path to dataset files:\", path)"
   ]
  },
  {
   "cell_type": "code",
   "execution_count": null,
   "id": "6ab07280",
   "metadata": {},
   "outputs": [],
   "source": [
    "import pandas as pd\n",
    "import numpy as np\n",
    "from sklearn.model_selection import StratifiedKFold, train_test_split\n",
    "from sklearn.preprocessing import StandardScaler, OrdinalEncoder\n",
    "from sklearn.base import BaseEstimator, TransformerMixin\n",
    "from sklearn.pipeline import make_pipeline\n",
    "from sklearn.compose import ColumnTransformer, make_column_selector\n",
    "from sklearn.linear_model import LinearRegression, Ridge, Lasso\n",
    "from sklearn.tree import DecisionTreeRegressor\n",
    "from sklearn.ensemble import RandomForestRegressor\n",
    "from sklearn.metrics import mean_squared_error, r2_score\n",
    "from sklearn.model_selection import cross_val_score, GridSearchCV\n",
    "import plotly.express as px\n",
    "import matplotlib.pyplot as plt\n",
    "import seaborn as sns"
   ]
  },
  {
   "cell_type": "code",
   "execution_count": null,
   "id": "457b4178",
   "metadata": {},
   "outputs": [],
   "source": [
    "df = pd.read_csv(\"/home/kendama/.cache/kagglehub/datasets/jayaantanaath/student-habits-vs-academic-performance/versions/1/student_habits_performance.csv\")"
   ]
  },
  {
   "cell_type": "code",
   "execution_count": null,
   "id": "6d5ad457",
   "metadata": {},
   "outputs": [],
   "source": [
    "df.info()"
   ]
  },
  {
   "cell_type": "markdown",
   "id": "da1cd40a",
   "metadata": {},
   "source": [
    "### Split Data"
   ]
  },
  {
   "cell_type": "code",
   "execution_count": null,
   "id": "d61e6a2e",
   "metadata": {},
   "outputs": [],
   "source": [
    "# First drop na\n",
    "df.dropna(subset=[\"parental_education_level\"], inplace=True)"
   ]
  },
  {
   "cell_type": "code",
   "execution_count": null,
   "id": "b654cabc",
   "metadata": {},
   "outputs": [],
   "source": [
    "y = df[\"exam_score\"]\n",
    "X = df[[col for col in df.columns if col != \"exam_score\"]]"
   ]
  },
  {
   "cell_type": "code",
   "execution_count": null,
   "id": "ba6b937d",
   "metadata": {},
   "outputs": [],
   "source": [
    "X_train, X_test, y_train, y_test = train_test_split(X, y, test_size=0.2, random_state=42)"
   ]
  },
  {
   "cell_type": "markdown",
   "id": "1cec9ebe",
   "metadata": {},
   "source": [
    "### EDA"
   ]
  },
  {
   "cell_type": "markdown",
   "id": "43299284",
   "metadata": {},
   "source": [
    "#### Target"
   ]
  },
  {
   "cell_type": "code",
   "execution_count": null,
   "id": "03dc2743",
   "metadata": {},
   "outputs": [],
   "source": [
    "ax, fig = plt.subplots(figsize=(9,5))\n",
    "ax = y_train.hist(grid=False, bins=20, edgecolor=\"lightgrey\", density=True)\n",
    "ax = y_train.plot(kind=\"kde\", color=\"darkblue\")\n",
    "ax.set_title(\"Distribution of exam scroes\")\n",
    "ax.set_xlabel(\"Exam score\")\n",
    "ax.set_ylabel(\"\")\n",
    "ax.set_xlim(0, 120)\n",
    "ax.tick_params(left=False, bottom=False)\n",
    "ax.set_yticks([])\n",
    "for ax, spine in ax.spines.items():\n",
    "    spine.set_visible(False)\n",
    "plt.show()"
   ]
  },
  {
   "cell_type": "markdown",
   "id": "ef3cbe69",
   "metadata": {},
   "source": [
    "#### Categorical"
   ]
  },
  {
   "cell_type": "code",
   "execution_count": null,
   "id": "d68a733c",
   "metadata": {},
   "outputs": [],
   "source": [
    "categorical_columns = [\"gender\", \"parental_education_level\", \"diet_quality\", \"part_time_job\", \"extracurricular_participation\", \"internet_quality\"]\n",
    "cmap = plt.cm.twilight\n",
    "fig, axes = plt.subplots(ncols=3, nrows=2, figsize=(16,9))\n",
    "for i, col in enumerate(categorical_columns):\n",
    "    row_ax = i // 3\n",
    "    col_ax = i % 3\n",
    "    ax = axes[row_ax, col_ax]\n",
    "    data = pd.concat([X_train[col], y_train], axis=1)\n",
    "    sns.boxplot(\n",
    "        data=data, \n",
    "        x=col, \n",
    "        y=\"exam_score\",\n",
    "        color=cmap(i*0.05),\n",
    "        ax=ax,\n",
    "    )\n",
    "    ax.set_title(col, fontdict={\"fontweight\": \"bold\", \"fontsize\": 10})\n",
    "    ax.set_xlabel(\"\")\n",
    "    ax.set_ylabel(\"exam score\")\n",
    "    \n",
    "    # add overall mean\n",
    "    overall_median = y_train.median()\n",
    "    ax.axhline(overall_median, linestyle=\"--\", color=\"white\", linewidth=0.75)\n",
    "    \n",
    "    # add observations per group\n",
    "    xlabels = [x.get_text() for x in ax.get_xticklabels()]\n",
    "    observations = data.groupby(col).count().exam_score.to_dict()\n",
    "    \n",
    "    for i, label in enumerate(xlabels):\n",
    "       xlabels[i] = label + f\"\\nn={observations[label]}\" \n",
    "       \n",
    "    ax.set_xticks(np.arange(len(xlabels)))\n",
    "    ax.set_xticklabels(xlabels)\n",
    "\n",
    "plt.subplots_adjust(hspace = 0.3)    \n",
    "plt.show()"
   ]
  },
  {
   "cell_type": "markdown",
   "id": "89c7be1a",
   "metadata": {},
   "source": [
    "- gender = \"other\" has to few records to make and evaluate predictions on folds and will therefore be excluded\n",
    "- parental_education seems to favor students with \"Bachelor\"-parents, while \"master\"-parents have the lowest median, which is somewhat unexpected (sample size is not very large though)\n",
    "- poor diet_quality is detrimental and one of the strongest effects among all categorical features\n",
    "- having a part_time_job is very slightly a negative condition, but probably insignificant\n",
    "- extracurricular_participation shows no diffecence between its classes\n",
    "- poor internet_quality seems to favor good grades (possible explenation could be that students substitute internet with books, which might provide a more through learning experience)"
   ]
  },
  {
   "cell_type": "code",
   "execution_count": null,
   "id": "dbdea759",
   "metadata": {},
   "outputs": [],
   "source": [
    "categorical_df = X_train.value_counts(subset=categorical_columns).reset_index()\n",
    "fig = px.sunburst(\n",
    "    categorical_df,\n",
    "    path=[\"diet_quality\", \"parental_education_level\", \"internet_quality\"],\n",
    "    values=\"count\",\n",
    "    color=\"count\",\n",
    "    color_continuous_scale=\"rdbu_r\",\n",
    "    width=960,\n",
    "    height=600\n",
    ")\n",
    "fig.show()"
   ]
  },
  {
   "cell_type": "markdown",
   "id": "3333fb51",
   "metadata": {},
   "source": [
    "#### Numerical"
   ]
  },
  {
   "cell_type": "code",
   "execution_count": null,
   "id": "7f431218",
   "metadata": {},
   "outputs": [],
   "source": [
    "train_df = pd.concat([X_train, y_train], axis=1)\n",
    "numeric_cols = train_df.select_dtypes(include=np.number).columns"
   ]
  },
  {
   "cell_type": "code",
   "execution_count": null,
   "id": "eaf43556",
   "metadata": {},
   "outputs": [],
   "source": [
    "corr_df = train_df[numeric_cols].corr()\n",
    "corr_df.style.background_gradient(cmap=\"Blues\")"
   ]
  },
  {
   "cell_type": "markdown",
   "id": "88aeee00",
   "metadata": {},
   "source": [
    "- Besides study hours, mental health seems to have the biggest impacts on grades\n",
    "- We should keep this rating balanced across all future folds in order to get accurate evaluation scores"
   ]
  },
  {
   "cell_type": "markdown",
   "id": "8e5fb654",
   "metadata": {},
   "source": [
    "### Preprocess"
   ]
  },
  {
   "cell_type": "code",
   "execution_count": null,
   "id": "b1c6966f",
   "metadata": {},
   "outputs": [],
   "source": [
    "def remove_other(X, y):\n",
    "    idx = X.loc[X.gender == \"Other\"].index\n",
    "    X.drop(idx, inplace=True)\n",
    "    y.drop(idx, inplace=True)"
   ]
  },
  {
   "cell_type": "code",
   "execution_count": null,
   "id": "d5489c91",
   "metadata": {},
   "outputs": [],
   "source": [
    "remove_other(X_train, y_train)"
   ]
  },
  {
   "cell_type": "code",
   "execution_count": null,
   "id": "d62e1353",
   "metadata": {},
   "outputs": [],
   "source": [
    "class DatasetPreprocessor(BaseEstimator, TransformerMixin):\n",
    "    def __init__(self, add_job_or_extracurricular=True):\n",
    "        self.add_job_or_extracurricular = add_job_or_extracurricular\n",
    "        \n",
    "    def fit(self, X, y=None):\n",
    "        return self\n",
    "    \n",
    "    def transform(self, X):\n",
    "        if \"student_id\" in X.columns:\n",
    "            X = X.drop([\"student_id\"], axis=1)\n",
    "        X[\"part_time_job\"] = X.part_time_job.map({\"Yes\": True, \"No\": False})\n",
    "        X[\"extracurricular_participation\"] = X.extracurricular_participation.map({\"Yes\": True, \"No\": False})\n",
    "        if self.add_job_or_extracurricular:\n",
    "            X[\"job_or_extracurricular\"] = X.part_time_job | X.extracurricular_participation\n",
    "            X = X.drop([\"part_time_job\", \"extracurricular_participation\"], axis=1)\n",
    "        return X\n",
    "        "
   ]
  },
  {
   "cell_type": "code",
   "execution_count": null,
   "id": "0a0d3bdc",
   "metadata": {},
   "outputs": [],
   "source": [
    "pipe = make_pipeline(\n",
    "        DatasetPreprocessor(add_job_or_extracurricular=True),\n",
    "        ColumnTransformer([\n",
    "            (\"num\", StandardScaler(), make_column_selector(dtype_include=np.number)),\n",
    "            (\"cat\", OrdinalEncoder(), make_column_selector(dtype_exclude=np.number))\n",
    "        ])\n",
    ")"
   ]
  },
  {
   "cell_type": "markdown",
   "id": "e5f6de86",
   "metadata": {},
   "source": [
    "### Model Selection"
   ]
  },
  {
   "cell_type": "code",
   "execution_count": null,
   "id": "9b1e3dff",
   "metadata": {},
   "outputs": [],
   "source": [
    "model = [LinearRegression(), Ridge(), Lasso(), DecisionTreeRegressor(), RandomForestRegressor()]\n",
    "\n",
    "skf = StratifiedKFold(n_splits=5)\n",
    "\n",
    "for i, (dev_index, val_index) in enumerate(skf.split(X_train, X_train.mental_health_rating)):\n",
    "    X_dev = X_train.iloc[dev_index]\n",
    "    y_dev = y_train.iloc[dev_index]\n",
    "    X_val = X_train.iloc[val_index]\n",
    "    y_val = y_train.iloc[val_index]\n",
    "    \n",
    "    X_dev = pipe.fit_transform(X_dev)\n",
    "    X_val = pipe.transform(X_val)\n",
    "    \n",
    "    model[i].fit(X_dev, y_dev)\n",
    "    r2_scores = cross_val_score(model[i], X_val, y_val, cv=3, scoring=\"r2\")\n",
    "    #rmse_scores = cross_val_score(model[i], X_val, y_val, cv=3, scoring=\"neg_root_mean_squared_error\")\n",
    "    mean_scores = np.mean(r2_scores)\n",
    "    sd_scores = np.std(r2_scores)\n",
    "    print(r2_scores, mean_scores, sd_scores)"
   ]
  },
  {
   "cell_type": "markdown",
   "id": "a42f1246",
   "metadata": {},
   "source": [
    "Ridge-Regression has best R^2"
   ]
  },
  {
   "cell_type": "markdown",
   "id": "59aebc6d",
   "metadata": {},
   "source": [
    "### Fine-Tuning Ridge"
   ]
  },
  {
   "cell_type": "code",
   "execution_count": null,
   "id": "4b72b54e",
   "metadata": {},
   "outputs": [],
   "source": [
    "grid = {\n",
    "    \"alpha\": [0.5, 1, 2, 10]\n",
    "}\n",
    "\n",
    "\n",
    "grid_search = GridSearchCV(model[1], param_grid=grid, cv=5)\n",
    "\n",
    "X_train = pipe.fit_transform(X_train)\n",
    "\n",
    "grid_search.fit(X_train, y_train)"
   ]
  },
  {
   "cell_type": "code",
   "execution_count": null,
   "id": "759d2eff",
   "metadata": {},
   "outputs": [],
   "source": [
    "grid_search.cv_results_"
   ]
  },
  {
   "cell_type": "code",
   "execution_count": null,
   "id": "76556740",
   "metadata": {},
   "outputs": [],
   "source": [
    "grid_search.best_estimator_"
   ]
  },
  {
   "cell_type": "markdown",
   "id": "c31564cc",
   "metadata": {},
   "source": [
    "### Predict and Evaluate on test data"
   ]
  },
  {
   "cell_type": "code",
   "execution_count": null,
   "id": "dd9d90f9",
   "metadata": {},
   "outputs": [],
   "source": [
    "remove_other(X_test, y_test)\n",
    "X_test = pipe.transform(X_test)\n",
    "y_pred = model[1].predict(X_test)\n",
    "print(\"RMSE: \", np.sqrt(mean_squared_error(y_test, y_pred)))\n",
    "print(\"R^2: \", r2_score(y_test, y_pred))"
   ]
  }
 ],
 "metadata": {
  "kernelspec": {
   "display_name": ".venv",
   "language": "python",
   "name": "python3"
  },
  "language_info": {
   "codemirror_mode": {
    "name": "ipython",
    "version": 3
   },
   "file_extension": ".py",
   "mimetype": "text/x-python",
   "name": "python",
   "nbconvert_exporter": "python",
   "pygments_lexer": "ipython3",
   "version": "3.13.2"
  }
 },
 "nbformat": 4,
 "nbformat_minor": 5
}
